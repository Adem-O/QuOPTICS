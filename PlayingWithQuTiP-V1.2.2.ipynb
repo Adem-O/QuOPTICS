{
 "cells": [
  {
   "cell_type": "markdown",
   "id": "d5937c03",
   "metadata": {},
   "source": [
    "<h4>\n",
    "     ! Import the code by running the cell below !"
   ]
  },
  {
   "cell_type": "code",
   "execution_count": null,
   "id": "f489bfa5",
   "metadata": {},
   "outputs": [],
   "source": [
    "from QuOpticsMainProject import *"
   ]
  },
  {
   "cell_type": "markdown",
   "id": "aac8f8e0",
   "metadata": {},
   "source": [
    "<h1>\n",
    "    Qu-OPTICS Simuating quantum systems\n",
    "</h1>"
   ]
  },
  {
   "cell_type": "markdown",
   "id": "8ce461bf",
   "metadata": {},
   "source": [
    "In this notebook, we explore some of the possiblities of QuTiP and other tools in simulating open-quantum systems.\n",
    "\n",
    "<br>\n",
    "\n",
    "The dynamics of open quantum systems can be evaluated using QuTiP's master equation solver <code>mesolve()</code>. Using this solver we need only define an intial state $\\rho_0$ and a Hamiltonian $H$. The master equation is given below."
   ]
  },
  {
   "cell_type": "markdown",
   "id": "f97baf67",
   "metadata": {},
   "source": [
    "<h3>\n",
    "    $$ \\dot\\rho(t)  = -\\frac{i}{\\hbar} \\left[H(t),\\rho(t)\\right] + \\sum_n \\frac{1}{2}\\left[2 C_n \\rho(t) C_n^{\\dagger}-\\rho(t) C_n^{\\dagger} C_n-C_n^{\\dagger} C_n \\rho(t)\\right] $$\n",
    "    $$\n",
    "    \\begin{aligned}\n",
    "        & C_1=\\sqrt{\\gamma(1+\\langle \\hat{n}_{E}\\rangle)} a \\\\\n",
    "        & C_2=\\sqrt{\\gamma\\langle \\hat{n}_{E}\\rangle} a^{\\dagger}\n",
    "    \\end{aligned}\n",
    "    $$"
   ]
  },
  {
   "cell_type": "markdown",
   "id": "2b7aea67",
   "metadata": {},
   "source": [
    "We will consider only a time dependant Hamiltonian of a harmonic oscillator with three distinct contributions, "
   ]
  },
  {
   "cell_type": "markdown",
   "id": "38fe7917",
   "metadata": {},
   "source": [
    "<h3>\n",
    "        $$ H = \\underbrace{a^{\\dagger} a}_{\\mathrm{H-O}}  + \\underbrace{\\Omega (a^{\\dagger} +a)}_{\\mathrm{Driving}} + \\underbrace{\\kappa(a^{\\dagger}aa^{\\dagger}a)}_{\\mathrm{Kerr~non-linearity}}. $$"
   ]
  },
  {
   "cell_type": "markdown",
   "id": "eea34525",
   "metadata": {},
   "source": [
    "Where we ignore the vacuum energy and set $\\hbar = 1$. To compare how the system evloves we will evalute the master equation and choose to include terms to the harmonic oscialltor as we please. We can do this with the code below:"
   ]
  },
  {
   "cell_type": "code",
   "execution_count": null,
   "id": "a894fbd6",
   "metadata": {},
   "outputs": [],
   "source": [
    "# Define the time list\n",
    "tlist = np.linspace(0, 200, 100)"
   ]
  },
  {
   "cell_type": "code",
   "execution_count": null,
   "id": "7e497fde",
   "metadata": {},
   "outputs": [],
   "source": [
    "#Display interactive plot\n",
    "Plot_HO(tlist)"
   ]
  },
  {
   "cell_type": "markdown",
   "id": "5255eb90",
   "metadata": {},
   "source": [
    "Next let's explore some of the inbuilt QuTiP fucntions to gain some more insight into the dyanmcis of the systems. Lets start by using the fucntion <code>mesolve()</code>"
   ]
  },
  {
   "cell_type": "code",
   "execution_count": null,
   "id": "d29e9b56",
   "metadata": {
    "scrolled": false
   },
   "outputs": [],
   "source": [
    "Plot_Fock(tlist)"
   ]
  },
  {
   "cell_type": "code",
   "execution_count": null,
   "id": "edf0dd63",
   "metadata": {},
   "outputs": [],
   "source": []
  }
 ],
 "metadata": {
  "kernelspec": {
   "display_name": "Python 3 (ipykernel)",
   "language": "python",
   "name": "python3"
  },
  "language_info": {
   "codemirror_mode": {
    "name": "ipython",
    "version": 3
   },
   "file_extension": ".py",
   "mimetype": "text/x-python",
   "name": "python",
   "nbconvert_exporter": "python",
   "pygments_lexer": "ipython3",
   "version": "3.9.18"
  },
  "panel-cell-order": [
   "af7ebacf-de81-4417-a588-e3d427838f77"
  ]
 },
 "nbformat": 4,
 "nbformat_minor": 5
}
