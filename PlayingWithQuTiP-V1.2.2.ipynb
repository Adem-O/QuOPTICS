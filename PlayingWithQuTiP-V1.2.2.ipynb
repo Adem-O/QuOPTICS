{
 "cells": [
  {
   "cell_type": "markdown",
   "id": "c7b6a5f3",
   "metadata": {},
   "source": [
    "<h4>\n",
    "     ! Import the code by running the cell below !"
   ]
  },
  {
   "cell_type": "code",
   "execution_count": null,
   "id": "f489bfa5",
   "metadata": {},
   "outputs": [],
   "source": [
    "from QuOpticsMainProject import *"
   ]
  },
  {
   "cell_type": "markdown",
   "id": "aac8f8e0",
   "metadata": {},
   "source": [
    "<h1>\n",
    "    Qu-OPTICS Simuating quantum systems\n",
    "</h1>"
   ]
  },
  {
   "cell_type": "markdown",
   "id": "8ce461bf",
   "metadata": {},
   "source": [
    "This notebook provides the results and analysis for the main project for the FOSE~7702. \n",
    "\n",
    "In this report we will examine three <i>open quantum systems</i>.  The dynamics of theses systems can be solved using <a href=\"https://qutip.org/index.html\">QuTIP</a> which will provide the majority of the tools needed to study the dynamics.\n",
    "<br>\n",
    "\n",
    "One of the typical tools to examine the dynamics of open quantum systems can be evaluated using QuTiP's master equation solver <code>mesolve()</code>. Using this solver we need only define an intial state $\\rho_0$ and a Hamiltonian $H$. The master equation is given below."
   ]
  },
  {
   "cell_type": "markdown",
   "id": "f97baf67",
   "metadata": {},
   "source": [
    "<h3>\n",
    "    $$ \\dot\\rho(t)  = -\\frac{i}{\\hbar} \\left[H(t),\\rho(t)\\right] + \\sum_n \\frac{1}{2}\\left[2 C_n \\rho(t) C_n^{\\dagger}-\\rho(t) C_n^{\\dagger} C_n-C_n^{\\dagger} C_n \\rho(t)\\right] $$\n",
    "    $$\n",
    "    \\begin{aligned}\n",
    "        & C_1=\\sqrt{\\gamma(1+\\langle \\hat{n}_{E}\\rangle)} a \\\\\n",
    "        & C_2=\\sqrt{\\gamma\\langle \\hat{n}_{E}\\rangle} a^{\\dagger}\n",
    "    \\end{aligned}\n",
    "    $$"
   ]
  },
  {
   "cell_type": "markdown",
   "id": "0c971f64",
   "metadata": {},
   "source": [
    " We should briefly make some comments on the equation above. Firstly we not that in the present case will consider only time independent Hamiltonians. Further more will we define the 'jump' or collapse operators for the system as\n",
    " <br> <br>\n",
    " $$\n",
    "\\begin{aligned}\n",
    "    & C_1=\\sqrt{\\gamma(1+\\langle \\hat{n}_{E}\\rangle)} a, \\\\\n",
    "    & C_2=\\sqrt{\\gamma\\langle \\hat{n}_{E}\\rangle} a^{\\dagger}.\n",
    "\\end{aligned}\n",
    "$$<br>\n",
    "    Since we are interested in only a harmonic oscillator we need only consider $a$ and $a^\\dagger$ operators. These operators will couple to the environment at a rate determined by the environments population $\\langle \\hat{n}_{E}\\rangle$ and a coupling $\\sqrt{\\gamma}$. Notice that the jump operator which corresponds to the de-excitation of the cavity or a photon 'leaving' to the environment is governed by $\\langle \\hat{n}_{E}\\rangle + 1$, this intuitively provides some physical sense as it ensure that a cavity with more than on excitation may still decay into the environment even if the environment is a vacuum. We should also note that the density operator $\\rho(t)$ is the reduced density matrix after the environmental degrees of freedom are traced over. <br> <br>\n",
    "    \n",
    "To arrive to the master equation form seen above various assumptions for the system have been made. These include the system separability such that for some initial time $t=0$ the combined system density operator $\\rho_W$ could be written in the separable form $\\rho_W(0) = \\rho_S(0)\\otimes\\rho_E(0) $. Furthermore we assume that environment coherence time $\\tau_E \\ll \\tau_S$ where $\\tau_S$ is the system coherence time. This is the Markov approximation and physically corresponds to the environment losing all coherence or information which was once contained cavity at such a rate significantly faster than of the cavity. This deems the information as ostensibly lost to the enthronement once it has left the cavity. Similar to the Markov approximation is the Born approximation which states that the impact of the cavity on the environment is so small that we can deem the environment separable from the system at all times and that in fact we may write $\\rho_W(t) = \\rho_S(t) \\otimes \\rho_E$.              "
   ]
  },
  {
   "cell_type": "markdown",
   "id": "2b7aea67",
   "metadata": {},
   "source": [
    "As mentioned above  we will consider only a time dependant Hamiltonian of a harmonic oscillator with three distinct contributions which can be seen below "
   ]
  },
  {
   "cell_type": "markdown",
   "id": "38fe7917",
   "metadata": {},
   "source": [
    "<h3>\n",
    "        $$ H = \\underbrace{a^{\\dagger} a}_{\\mathrm{H-O}}  + \\underbrace{\\Omega (a^{\\dagger} +a)}_{\\mathrm{Driving}} + \\underbrace{\\kappa(a^{\\dagger}aa^{\\dagger}a)}_{\\mathrm{Kerr~non-linearity}}. $$"
   ]
  },
  {
   "cell_type": "markdown",
   "id": "eea34525",
   "metadata": {},
   "source": [
    "Where we ignore the vacuum energy and set $\\hbar = 1$. To compare how the system evolves we will evaluate the master equation and choose to include terms to the harmonic oscillator as we please. This affords us with an ability to draw on our classical intuition of the dynamics of a damped harmonic oscillator. "
   ]
  },
  {
   "cell_type": "markdown",
   "id": "634ce973",
   "metadata": {},
   "source": [
    "<h4> To begin the computation run the cells below"
   ]
  },
  {
   "cell_type": "code",
   "execution_count": null,
   "id": "a894fbd6",
   "metadata": {},
   "outputs": [],
   "source": [
    "# Define the time list\n",
    "tlist = np.linspace(0, 100, 100)"
   ]
  },
  {
   "cell_type": "code",
   "execution_count": null,
   "id": "7e497fde",
   "metadata": {},
   "outputs": [],
   "source": [
    "#Display interactive plot\n",
    "Plot_HO(tlist)"
   ]
  },
  {
   "cell_type": "markdown",
   "id": "bc2df46a",
   "metadata": {},
   "source": [
    "From the above plots we have the ability to examine the system dynamics and simply adjust the sliders to change the behaviour of the system and environment interaction. This code works by running the QuTiP master equation solver <code>mesolve()</code> and storing the states as they are evaluated through time. "
   ]
  },
  {
   "cell_type": "markdown",
   "id": "0e37bef7",
   "metadata": {},
   "source": [
    "Next let's explore some of the inbuilt QuTiP functions to gain some more insight into the dynamics of the systems. Lets start by using a modified example of the QuTiP function <code>ani_fock_distribution()</code>. This allows us both an ability to see the instantaneous Fock distribution of the state $\\rho$ and also see this evolve as we include terms in the Hamiltonian or change coupling strengths. To do this run the cell with the fucntion <code>Plot_Fock(tlist)</code>"
   ]
  },
  {
   "cell_type": "code",
   "execution_count": null,
   "id": "4754f39c",
   "metadata": {},
   "outputs": [],
   "source": [
    "Plot_Fock(tlist)"
   ]
  },
  {
   "cell_type": "markdown",
   "id": "36681b21",
   "metadata": {},
   "source": [
    "From the above we have now seen that although the $\\langle \\hat{n}\\rangle$ provides some insight into the system the Fock distributions show more clearly the effects of the system driving and eventual return to a thermal state. "
   ]
  },
  {
   "cell_type": "markdown",
   "id": "7418c70d",
   "metadata": {},
   "source": [
    "In fact lets now examine just how similar the system is to a thermal or coherent state in the steady state by running the cell below.   "
   ]
  },
  {
   "cell_type": "code",
   "execution_count": null,
   "id": "dd6cad76",
   "metadata": {},
   "outputs": [],
   "source": [
    "Examine_Steady_State()"
   ]
  },
  {
   "cell_type": "markdown",
   "id": "7a93f284-0d68-4f34-9dd3-f4e565a941b7",
   "metadata": {},
   "source": [
    "In the above we have used the quadrature operators \n",
    "$$\n",
    "\\hat{x} = \\frac{\\hat{a} + \\hat{a}^\\dagger}{\\sqrt{2}}, \\quad \\hat{p} = \\frac{\\hat{a} - \\hat{a}^\\dagger}{i\\sqrt{2}}\n",
    "$$\n",
    "We expect for a <b>coherent state</b> a Poissonian distribution with mean photon number $ \\langle \\hat{n} \\rangle = |\\alpha|^2 $ and variance $\\Delta x_{\\text{coh}} = \\Delta p_{\\text{coh}} = \\frac{1}{\\sqrt{2}}$ so that \n",
    "$$\\Delta x_{\\text{coh}} \\cdot \\Delta p_{\\text{coh}} = \\frac{1}{2}.$$\n",
    "\n",
    "Where for the thermal states we expect $\\Delta x_{\\text{th}} = \\Delta p_{\\text{th}} = \\sqrt{\\frac{2 n_{\\text{th}} + 1}{2}}$ and so \n",
    "$$\\Delta x_{\\text{th}} \\cdot \\Delta p_{\\text{th}} = \\frac{2 n_{\\text{th}} + 1}{2} \\geq \\frac{1}{2}.$$\n",
    "<br> <br>\n",
    "\n",
    "Using this we then say that for the steady state $\\rho_{ss}$ if we find $ \\Delta x \\cdot \\Delta p > \\frac{1}{2} $, the state is likely thermal. Additionally then if $ \\Delta x \\cdot \\Delta p  \\approx \\frac{1}{2} $, the state is likely a coherent state.\n",
    "\n",
    "Further more we use the number operate variances to gleen similar information, as for thermal states and coherent states we expect \n",
    "$$ \\Delta N_{\\text{th}} = \\sqrt{n_{\\text{th}}^2 + n_{\\text{th}}}, \\quad \\Delta N_{\\text{coh}} = \\sqrt{\\langle \\hat{n} \\rangle} = \\alpha. $$\n"
   ]
  },
  {
   "cell_type": "markdown",
   "id": "692834df-797b-417c-b9e1-4f540ac3be65",
   "metadata": {},
   "source": [
    "<h3>\n",
    "    Phase space distributions\n",
    "</h3>"
   ]
  },
  {
   "cell_type": "markdown",
   "id": "23d257d2-8cf9-4750-a0cd-4f2dff422b75",
   "metadata": {},
   "source": [
    "Now we journey into the phase space quasi-probability distribution tools available in QuTiP. We start by looking at the same system and plotting the Wigner distribution as the state evolves. "
   ]
  },
  {
   "cell_type": "code",
   "execution_count": null,
   "id": "beef46b7-8616-4bf8-a943-4128fa6f75c7",
   "metadata": {},
   "outputs": [],
   "source": [
    "# Define the time list\n",
    "tlist = np.linspace(0, 50, 50)\n",
    "\n",
    "# Define the size of phase space to plot in\n",
    "xvec = np.linspace(-5, 5, 200)\n",
    "\n",
    "\n",
    "Plot_Wigner(tlist,xvec)"
   ]
  },
  {
   "cell_type": "markdown",
   "id": "96f41821-fc56-48dd-a396-bd7cf2379e42",
   "metadata": {},
   "source": [
    "<h3>\n",
    "Or in 3D we can plot the Wigner distribution"
   ]
  },
  {
   "cell_type": "code",
   "execution_count": null,
   "id": "3fed50a4-4b4f-4ee1-b1d1-6ab29916045f",
   "metadata": {},
   "outputs": [],
   "source": [
    "tlist = np.linspace(0, 100, 100)\n",
    "xvec = np.linspace(-5, 5, 200)\n",
    "Plot_Wigner_3D(tlist, xvec)"
   ]
  },
  {
   "cell_type": "markdown",
   "id": "612c768b-ae66-46aa-aedd-21848137287e",
   "metadata": {},
   "source": [
    "<h2>\n",
    "    Similarly we plot the Husimi Q fucntion."
   ]
  },
  {
   "cell_type": "code",
   "execution_count": null,
   "id": "c74a23bb-24e3-4637-9af8-f843c40efafb",
   "metadata": {},
   "outputs": [],
   "source": [
    "Plot_Q(tlist,xvec)"
   ]
  },
  {
   "cell_type": "code",
   "execution_count": null,
   "id": "9e3cd0e1-da09-4223-a952-4dbbcb5686e3",
   "metadata": {},
   "outputs": [],
   "source": [
    "Plot_Q_3D(tlist,xvec)"
   ]
  },
  {
   "cell_type": "markdown",
   "id": "85c55e1b-b258-487d-8f15-66147de57ad5",
   "metadata": {},
   "source": [
    "If we want to continue to check for classicality we can use the  <code>Demonstrate_NonClassicality()</code> function below. Here we compute the Wigner distribution for the steady-state $\\rho$. If the Wigner distribution $W(\\alpha) < 0$ we identify that the state is non-classical. Conversely if $W(\\alpha) \\geq 0$ everywhere, then we infer that the state may be classical. <br>\n",
    "We can also compute the Mandel Q Parameter defined as \n",
    "$$\n",
    "Q = \\frac{\\mathrm{Var}(\\hat{n}) - \\langle \\hat{n} \\rangle}{\\langle \\hat{n} \\rangle}.\n",
    "$$\n",
    "If we find that $Q$ is negative this indicates sub-Poissonian statistics, meaning the state may be non-classical. For a posative or zero $Q$ the state is Poissonian which is indicative of coherent states or super-Poissonian statistics for thermal states."
   ]
  },
  {
   "cell_type": "code",
   "execution_count": null,
   "id": "0086bc8f-0fc6-4004-af06-90588a7cf74a",
   "metadata": {},
   "outputs": [],
   "source": [
    "Demonstrate_NonClassicality()"
   ]
  }
 ],
 "metadata": {
  "kernelspec": {
   "display_name": "Python 3 (ipykernel)",
   "language": "python",
   "name": "python3"
  },
  "language_info": {
   "codemirror_mode": {
    "name": "ipython",
    "version": 3
   },
   "file_extension": ".py",
   "mimetype": "text/x-python",
   "name": "python",
   "nbconvert_exporter": "python",
   "pygments_lexer": "ipython3",
   "version": "3.12.3"
  },
  "panel-cell-order": [
   "af7ebacf-de81-4417-a588-e3d427838f77"
  ]
 },
 "nbformat": 4,
 "nbformat_minor": 5
}
