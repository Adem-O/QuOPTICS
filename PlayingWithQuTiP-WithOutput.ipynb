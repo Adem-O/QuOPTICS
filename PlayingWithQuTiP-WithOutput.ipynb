{
 "cells": [
  {
   "cell_type": "markdown",
   "id": "c7b6a5f3",
   "metadata": {},
   "source": [
    "<h4>\n",
    "     ! Import the code by running the cell below !"
   ]
  },
  {
   "cell_type": "code",
   "execution_count": null,
   "id": "f489bfa5",
   "metadata": {},
   "outputs": [],
   "source": [
    "from QuOpticsMainProject import *"
   ]
  },
  {
   "cell_type": "markdown",
   "id": "aac8f8e0",
   "metadata": {},
   "source": [
    "<h1>\n",
    "    Qu-OPTICS Simulating open quantum systems\n",
    "</h1>"
   ]
  },
  {
   "cell_type": "markdown",
   "id": "8ce461bf",
   "metadata": {},
   "source": [
    "This notebook provides the results and analysis for the main project for the FOSE7702, by Adem Ozer. \n",
    "\n",
    "In this notebook we will examine simple open quantum systems,  the dynamics of which can be evaluated using <a href=\"https://qutip.org/index.html\">QuTiP</a>. QuTiP will provide the majority of the tools needed to study the dynamics.\n",
    "<br>\n",
    "\n",
    "The main focus of this notebook will use QuTiP's master equation solver <code>mesolve()</code>. Using this solver we need only define an intial state $\\rho_0$ and a Hamiltonian $H$. The master equation describing the states dynamics is given below."
   ]
  },
  {
   "cell_type": "markdown",
   "id": "f97baf67",
   "metadata": {},
   "source": [
    "<h3>\n",
    "    $$ \\dot\\rho(t)  = -\\frac{i}{\\hbar} \\left[H(t),\\rho(t)\\right] + \\sum_n \\frac{1}{2}\\left[2 C_n \\rho(t) C_n^{\\dagger}-\\rho(t) C_n^{\\dagger} C_n-C_n^{\\dagger} C_n \\rho(t)\\right] $$\n",
    "    $$\n",
    "    \\begin{aligned}\n",
    "        & C_1=\\sqrt{\\gamma(1+\\langle \\hat{n}_{E}\\rangle)} a \\\\\n",
    "        & C_2=\\sqrt{\\gamma\\langle \\hat{n}_{E}\\rangle} a^{\\dagger}\n",
    "    \\end{aligned}\n",
    "    $$"
   ]
  },
  {
   "cell_type": "markdown",
   "id": "0c971f64",
   "metadata": {},
   "source": [
    "Lets briefly make some comments on the equation above. Firstly we note that in the cases we consider in this notebook will include only time independent Hamiltonians. In fact the Hamiltonians we are interested in are those of a single-mode harmonic oscillator. As such we need only consider $a$ and $a^\\dagger$ operators. We can then define the collapse operators as\n",
    " <br> <br>\n",
    " $$\n",
    "\\begin{aligned}\n",
    "    & C_1=\\sqrt{\\gamma(1+\\langle \\hat{n}_{E}\\rangle)} a, \\\\\n",
    "    & C_2=\\sqrt{\\gamma\\langle \\hat{n}_{E}\\rangle} a^{\\dagger}.\n",
    "\\end{aligned}\n",
    "$$<br>\n",
    "     These operators will couple the system (the single-mode harmonic oscillator) to the environment (thermal bath) at a rate determined by the environments population $\\langle \\hat{n}_{E}\\rangle$ and a coupling strength $\\sqrt{\\gamma}$. Notice that the collapse or jump operator which corresponds to the de-excitation of the cavity or a photon 'leaving' to the environment is governed by $\\langle \\hat{n}_{E}\\rangle + 1$, this makes physical sense, as it ensure that a cavity with more than on excitation may still decay into the environment even if the environment is the vacuum. We should also note that the density operator $\\rho(t)$ is the reduced density matrix after the environmental degrees of freedom are traced over. <br> <br>\n",
    "    \n",
    "To arrive to the master equation seen above various assumptions for the system have been made. The first is the system separability such that for some initial time $t=0$ the combined system-environment density operator $\\rho_W$ could be written in the separable form $\\rho_W(0) = \\rho_S(0)\\otimes\\rho_E(0) $. <br>\n",
    "\n",
    "Secondly we assume that environment coherence time $\\tau_E \\ll \\tau_S$ where $\\tau_S$ is the system coherence time. This is the Markov approximation and physically corresponds to the environment losing all coherence or information which was once contained in the cavity at a rate significantly faster the cavity lifetime. This means the information is ostensibly lost to the enthronement once it has left the cavity. <br> \n",
    "\n",
    "Similar to the Markov approximation is the Born approximation which states that the impact of the cavity on the environment is small enough that we can consider the environment separable from the system at all times. The Born approximation allows us to write $\\rho_W(t) = \\rho_S(t) \\otimes \\rho_E$.              "
   ]
  },
  {
   "cell_type": "markdown",
   "id": "2b7aea67",
   "metadata": {},
   "source": [
    "As mentioned above  we will consider only a time independant Hamiltonian of a harmonic oscillator, which as an open system can be described as a damped-harmonic oscilator. In fact will will consider a damped-harmonic oscilator with three distinct contributions which can be seen below "
   ]
  },
  {
   "cell_type": "markdown",
   "id": "38fe7917",
   "metadata": {},
   "source": [
    "<h3>\n",
    "        $$ H = \\underbrace{a^{\\dagger} a}_{\\mathrm{H-O}}  + \\underbrace{\\Omega ( a^{\\dagger} +a)}_{\\mathrm{Driving}} + \\underbrace{\\kappa(a^{\\dagger}aa^{\\dagger}a)}_{\\mathrm{Kerr~non-linearity}}, $$"
   ]
  },
  {
   "cell_type": "markdown",
   "id": "eea34525",
   "metadata": {},
   "source": [
    "where we ignore the vacuum energy and set $\\hbar = \\omega =1$ where $\\omega$ is the harmonic oscillator frequency. To compare how the system evolves we will evaluate the master equation and choose to include terms to the harmonic oscillator as we please. This affords us with an ability to draw on our classical intuition of the dynamics of a damped harmonic oscillator. "
   ]
  },
  {
   "cell_type": "markdown",
   "id": "634ce973",
   "metadata": {},
   "source": [
    "<h4> To begin the computation run the cells below"
   ]
  },
  {
   "cell_type": "code",
   "execution_count": null,
   "id": "a894fbd6",
   "metadata": {},
   "outputs": [],
   "source": [
    "# Define the time list\n",
    "tlist = np.linspace(0, 100, 100)"
   ]
  },
  {
   "cell_type": "code",
   "execution_count": null,
   "id": "7e497fde",
   "metadata": {},
   "outputs": [],
   "source": [
    "#Display interactive plot\n",
    "Plot_HO(tlist)"
   ]
  },
  {
   "cell_type": "markdown",
   "id": "bc2df46a",
   "metadata": {},
   "source": [
    "From the above plots we have the ability to examine the system dynamics and simply adjust the sliders to change the behaviour of the system and environment interaction. This code works by running the QuTiP master equation solver <code>mesolve()</code> and storing the states as they are evaluated through time. "
   ]
  },
  {
   "cell_type": "markdown",
   "id": "0e37bef7",
   "metadata": {},
   "source": [
    "Next let's explore some of the inbuilt QuTiP functions to gain further insight into the dynamics of the systems. Lets start by using a modified example of the QuTiP function <code>ani_fock_distribution()</code>. This allows us both an ability to see the instantaneous Fock distribution of the state $\\rho$ and also see this evolve as we include terms in the Hamiltonian or change coupling strengths. To do this run the cell containing the function <code>Plot_Fock(tlist)</code> below."
   ]
  },
  {
   "cell_type": "code",
   "execution_count": null,
   "id": "4754f39c",
   "metadata": {},
   "outputs": [],
   "source": [
    "Plot_Fock(tlist)"
   ]
  },
  {
   "cell_type": "markdown",
   "id": "7a93f284-0d68-4f34-9dd3-f4e565a941b7",
   "metadata": {},
   "source": [
    "From the above we now see that although the $\\langle \\hat{n}\\rangle$ plots we have seen from <code>Plot_HO()</code> provides some insight into the system, when we examine the Fock distributions we can much more clearly visualise the effects of driving and how the system may eventual return to a thermal state. \n",
    "\n",
    "<h2>\n",
    "    Now lets quantify this similarity.\n",
    "</h2>\n",
    "<hr>\n",
    "Recall the quadrature operators\n",
    "$$\n",
    "\\hat{x} = \\frac{\\hat{a} + \\hat{a}^\\dagger}{\\sqrt{2}}, \\quad \\hat{p} = \\frac{\\hat{a} - \\hat{a}^\\dagger}{i\\sqrt{2}}.\n",
    "$$\n",
    "<br>\n",
    "We know that a <b>coherent state</b> will have a mean photon number $ \\langle \\hat{n} \\rangle = |\\alpha|^2 $ and the variance for the coherent state will be $\\Delta x_{\\text{coh}} = \\Delta p_{\\text{coh}} = \\frac{1}{\\sqrt{2}}$ so that \n",
    "$$\\Delta x_{\\text{coh}} \\cdot \\Delta p_{\\text{coh}} = \\frac{1}{2}.$$\n",
    "\n",
    "For the thermal states we expect $\\Delta x_{\\text{th}} = \\Delta p_{\\text{th}} = \\sqrt{\\frac{2 n_{\\text{th}} + 1}{2}}$ and so \n",
    "$$\\Delta x_{\\text{th}} \\cdot \\Delta p_{\\text{th}} = \\frac{2 n_{\\text{th}} + 1}{2} \\geq \\frac{1}{2}.$$\n",
    "<br> <br>\n",
    "\n",
    "Using this knowledge we can then identify that for the steady state solution $\\rho_{ss}$ found by QuTiP, that should we find $ \\Delta x \\cdot \\Delta p > \\frac{1}{2} $, we conclude the state is likely thermal. Consequently if $ \\Delta x \\cdot \\Delta p  \\approx \\frac{1}{2} $, the state is likely a coherent state.\n",
    "\n",
    "Furthermore we may use the number operate variances to gleen similar information, as for thermal states and coherent states we expect \n",
    "$$ \\Delta N_{\\text{th}} = \\sqrt{n_{\\text{th}}^2 + n_{\\text{th}}}, \\quad \\Delta N_{\\text{coh}} = \\sqrt{\\langle \\hat{n} \\rangle} = \\alpha. $$\n",
    "\n",
    "<h3>\n",
    "So now lets now examine just how similar the system is to a thermal or coherent state in the steady state by running the cell below.   "
   ]
  },
  {
   "cell_type": "code",
   "execution_count": null,
   "id": "dd6cad76",
   "metadata": {},
   "outputs": [],
   "source": [
    "Examine_Steady_State()"
   ]
  },
  {
   "cell_type": "markdown",
   "id": "021bf3a6-5f26-4c94-9727-c4891420d0c9",
   "metadata": {},
   "source": [
    "<h4>Note:    \n",
    "    In the plot above we generate the thermal state using QuTip's <code>thermal_dm(N,n_th)</code> where N is the $\\mathrm{Dim}(\\mathcal{H})$ and n_th is the bath temp.\n",
    "    \n",
    "Similar for the coherent state, we take $\\langle n\\rangle$ for the steady state soln. and use this to generate a coherent state using qutip <code>thermal_dm(N,alpha)</code> where we set we set $\\alpha = (\\langle n\\rangle)^{1/2}$\n",
    "</h4>"
   ]
  },
  {
   "cell_type": "markdown",
   "id": "692834df-797b-417c-b9e1-4f540ac3be65",
   "metadata": {},
   "source": [
    "<hr>\n",
    "<h2>\n",
    "    Phase space distributions\n",
    "</h2>"
   ]
  },
  {
   "cell_type": "markdown",
   "id": "23d257d2-8cf9-4750-a0cd-4f2dff422b75",
   "metadata": {},
   "source": [
    "Now we journey into the phase space quasi-probability distribution tools available in QuTiP. <br>\n",
    "\n",
    "We start by looking at the same system and plotting the Wigner distribution as the state evolves. "
   ]
  },
  {
   "cell_type": "code",
   "execution_count": null,
   "id": "beef46b7-8616-4bf8-a943-4128fa6f75c7",
   "metadata": {},
   "outputs": [],
   "source": [
    "# Define the time list\n",
    "tlist = np.linspace(0, 50, 50)\n",
    "\n",
    "# Define the size of phase space to plot in\n",
    "xvec = np.linspace(-5, 5, 200)\n",
    "\n",
    "\n",
    "Plot_Wigner(tlist,xvec)"
   ]
  },
  {
   "cell_type": "markdown",
   "id": "96f41821-fc56-48dd-a396-bd7cf2379e42",
   "metadata": {},
   "source": [
    "<h3>\n",
    "Or in 3D we can plot the Wigner distribution"
   ]
  },
  {
   "cell_type": "code",
   "execution_count": null,
   "id": "3fed50a4-4b4f-4ee1-b1d1-6ab29916045f",
   "metadata": {},
   "outputs": [],
   "source": [
    "tlist = np.linspace(0, 100, 100)\n",
    "xvec = np.linspace(-5, 5, 200)\n",
    "Plot_Wigner_3D(tlist, xvec)"
   ]
  },
  {
   "cell_type": "markdown",
   "id": "612c768b-ae66-46aa-aedd-21848137287e",
   "metadata": {},
   "source": [
    "<h2>\n",
    "    Similarly we plot the Husimi Q fucntion."
   ]
  },
  {
   "cell_type": "code",
   "execution_count": null,
   "id": "c74a23bb-24e3-4637-9af8-f843c40efafb",
   "metadata": {},
   "outputs": [],
   "source": [
    "Plot_Q(tlist,xvec)"
   ]
  },
  {
   "cell_type": "code",
   "execution_count": null,
   "id": "9e3cd0e1-da09-4223-a952-4dbbcb5686e3",
   "metadata": {},
   "outputs": [],
   "source": [
    "Plot_Q_3D(tlist,xvec)"
   ]
  },
  {
   "cell_type": "markdown",
   "id": "85c55e1b-b258-487d-8f15-66147de57ad5",
   "metadata": {},
   "source": [
    "If we want to continue to check for classicality we can use the  <code>Demonstrate_NonClassicality()</code> function below. Here we compute the Wigner distribution for the steady-state $\\rho$. If the Wigner distribution $W(\\alpha) < 0$ we identify that the state is non-classical. Conversely if $W(\\alpha) \\geq 0$ everywhere, then we infer that the state may be classical. <br>\n",
    "We can also compute the Mandel Q Parameter defined as \n",
    "$$\n",
    "Q = \\frac{\\mathrm{Var}(\\hat{n}) - \\langle \\hat{n} \\rangle}{\\langle \\hat{n} \\rangle} = \\langle \\hat{n} \\rangle \\left( g^{(2)}(0) - 1\\right).\n",
    "$$\n",
    "If we find that $Q$ is negative this indicates sub-Poissonian statistics (that is the variance of photon number is less than the mean), which implies the state may be non-classical. For a positive or zero $Q$ the state is Poissonian which is indicative of coherent states or super-Poissonian statistics for thermal states.\n",
    "\n",
    "<h3>Note:</h3> \n",
    "So far we've been writing the Hamiltonian as $H = a^{\\dagger} a  + \\Omega ( a^{\\dagger} +a) + \\kappa(a^{\\dagger}aa^{\\dagger}a),$ which assumes the driving field and the H-O are inphase, or rather that $\\Omega \\in \\mathbb{R}$. We don't need to make this assumption and can write the Hamiltonian with $\\Omega \\in \\mathbb{C}$ as <br><br>\n",
    "        $${\\large H = a^{\\dagger} a  + \\underline{{\\Large(\\Omega a^{\\dagger} + \\Omega^* a)}} + \\kappa(a^{\\dagger}aa^{\\dagger}a).}$$\n",
    "\n",
    "Equivalently lets write the driving term in the Hamiltonian as $H_D = |\\Omega| ( e^{i\\phi} a^{\\dagger} +e^{-i\\phi}a)$ and implement this in the code below."
   ]
  },
  {
   "cell_type": "code",
   "execution_count": null,
   "id": "de336408",
   "metadata": {},
   "outputs": [],
   "source": [
    "Demonstrate_NonClassicality()"
   ]
  },
  {
   "cell_type": "markdown",
   "id": "a326c288-e915-4f3c-b767-4560c9a4b887",
   "metadata": {},
   "source": [
    "<h1>\n",
    "    Stochastic Solvers\n",
    "</h1>\n",
    "\n",
    "QuTiP offers stochastic solvers to simulate open quantum systems. The primary solver is the Monte Carlo wave function <code>mcsolve()</code>. In this solver QuTiP simulates individual quantum trajectories by applying random quantum jumps to the state vector. To do this the environment needs to be continuously monitored. Whilst this monitoring is occurring in the environment, if the environment gains information about the state of the system, we then implement a quantum jump.<br>\n",
    "\n",
    "Specifically for <code>mcsolve()</code> the system evolves according to the Schrödinger equation with a non-Hermitian effective Hamiltonian\n",
    "$$\n",
    "H_{\\mathrm{eff}}=H_{\\mathrm{sys}}-\\frac{i \\hbar}{2} \\sum_i C_n^{\\dagger} C_n.\n",
    "$$\n",
    "Since the information is only ever being lost by the system when one computes the norm of the state after some small time $\\delta t$ we have $\\langle\\psi(t+\\delta t) \\mid \\psi(t+\\delta t)\\rangle=1-\\delta p$, as the <i>non-hermitianicity(?)</i> is strictly negative. Since we know the terms responsible for the reduction in the information we can find $\\delta p$ as\n",
    "$$\n",
    "\\delta p=\\delta t \\sum_n\\langle\\psi(t)| C_n^{\\dagger} C_n|\\psi(t)\\rangle.\n",
    "$$\n",
    "So we have that the probability of the state <i>not changing</i> is given by $\\delta p$. However this does not distinguish between collapse operators, thus for each collapse operator $C_i$ the probability is found as \n",
    "$$\n",
    "P_i(t) = \\frac{1}{\\delta p} \\langle\\psi(t)| C_i^{\\dagger} C_i|\\psi(t)\\rangle.\n",
    "$$\n",
    "QuTip then chooses a random number $r \\in [0,1]$, evolves the state according to $H_{\\mathrm{eff}}$ for some time $\\tau$ such that $ \\langle\\psi(\\tau)|\\psi(\\tau)\\rangle = r$, then applies a collapse operate to the state, renormalises and repeats.\n",
    "\n",
    "This approach can be efficient for some systems but requires averaging over many trajectories to reconstruct the ensemble behaviour. We can see the influence of the quantum jump effects in individual runs and compare this to the master equation solver <code>mesolve()</code> by running the function <code>Plot_Stochastic_Simulations()</code> in the cell below."
   ]
  },
  {
   "cell_type": "code",
   "execution_count": null,
   "id": "7a9a6f6a-bad2-47f6-8e52-e9192632f135",
   "metadata": {},
   "outputs": [],
   "source": [
    "# Define the time list\n",
    "tlist = np.linspace(0, 10, 50)\n",
    "Plot_Stochastic_Simulations(tlist)"
   ]
  }
 ],
 "metadata": {
  "kernelspec": {
   "display_name": "Python 3 (ipykernel)",
   "language": "python",
   "name": "python3"
  },
  "language_info": {
   "codemirror_mode": {
    "name": "ipython",
    "version": 3
   },
   "file_extension": ".py",
   "mimetype": "text/x-python",
   "name": "python",
   "nbconvert_exporter": "python",
   "pygments_lexer": "ipython3",
   "version": "3.9.13"
  },
  "panel-cell-order": [
   "af7ebacf-de81-4417-a588-e3d427838f77"
  ]
 },
 "nbformat": 4,
 "nbformat_minor": 5
}
